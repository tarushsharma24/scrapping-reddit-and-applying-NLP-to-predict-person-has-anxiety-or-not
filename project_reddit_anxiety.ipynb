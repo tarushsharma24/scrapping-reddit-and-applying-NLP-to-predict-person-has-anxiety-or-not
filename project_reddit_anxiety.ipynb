{
 "cells": [
  {
   "cell_type": "code",
   "execution_count": 1,
   "id": "4fc61513-969c-4288-9da8-584d0266d2f2",
   "metadata": {},
   "outputs": [],
   "source": [
    "import requests                                                                   \n",
    "from bs4 import BeautifulSoup\n",
    "import pandas as pd\n",
    "from sklearn.feature_extraction.text import CountVectorizer, TfidfTransformer, TfidfVectorizer\n",
    "from string import punctuation \n",
    "from nltk.corpus import stopwords,wordnet\n",
    "from nltk.stem import PorterStemmer,WordNetLemmatizer\n",
    "import nltk\n",
    "from sklearn.naive_bayes import BernoulliNB, MultinomialNB"
   ]
  },
  {
   "cell_type": "code",
   "execution_count": 142,
   "id": "07e9f25b-17b5-4f4e-90e6-5ccc332f2ecc",
   "metadata": {},
   "outputs": [],
   "source": [
    "header={\n",
    "   'User-Agent': 'Mozilla/5.0 (Windows NT 10.0; Win64; x64) AppleWebKit/537.36 (KHTML, like Gecko) Chrome/93.0.4577.82 Safari/537.36',\n",
    "    'Accept':'text/html,application/xhtml+xml,application/xml;q=0.9,image/avif,image/webp,image/apng,*/*;q=0.8,application/signed-exchange;v=b3;q=0.9'\n",
    "    \n",
    "}"
   ]
  },
  {
   "cell_type": "code",
   "execution_count": 144,
   "id": "c07989a3-15e7-46ed-b5b9-c009015adc76",
   "metadata": {},
   "outputs": [],
   "source": [
    "lst=['uppvr','uifd8','ukixi','umkq6','uiogi','ugpv8','ub1t7','ubzhe','tzjke','u7yqt','u3krp','tyirr','tpk7k','tn7n4','tpazf','tn6lq','tkks6','th0nz','ta4zf','tc0rx']\n",
    "for i in lst:\n",
    "    url=f\"https://gateway.reddit.com/desktopapi/v1/subreddits/Anxiety?rtj=only&redditWebClient=web2x&app=web2x-client-production&allow_over18=&include=prefsSubreddit&after=t3_p{i}&dist=27&forceGeopopular=false&layout=card&sort=hot\"\n",
    "    r=requests.get(url,headers=header)\n",
    "    text=r.text\n",
    "    file=open(f'reddit_file_{lst.index(i)+1}.txt','w')\n",
    "    file.write(text)\n",
    "    file.close()\n",
    "    "
   ]
  },
  {
   "cell_type": "code",
   "execution_count": 149,
   "id": "df8517ae-1fc3-4e50-af8b-a5a6f725c864",
   "metadata": {},
   "outputs": [],
   "source": [
    "content=[]\n",
    "for k in range(1,21):\n",
    "    file = open(f\"reddit_file_{k}.txt\",\"r\")\n",
    "    data=file.read()\n",
    "    file.close()\n",
    "    ert=data.split('https://www.reddit.com/r/Anxiety/comments/')\n",
    "    ert=ert[1:]\n",
    "    for i in ert:\n",
    "        qw=i[7:(i.index('\"'))-1]\n",
    "        qw=qw.replace('_',' ')+' .'\n",
    "        abc=''\n",
    "        try:\n",
    "            abc=i[i.index('document\": [{\"c\": [{\"e\": \"text\", \"t\": ')+39 : i.index('\"}], \"e\": \"par\"}]}, \"mediaMetadata\":')]\n",
    "            abc=abc.replace(abc[abc.index('\"}'):abc.index('t\": ')+4],' ')\n",
    "            abc=abc.replace(abc[abc.index('\", \"f\": [['):abc.index('ext\", \"t\": \"')+12],' ')\n",
    "        except:\n",
    "            pass\n",
    "        content+=[qw+abc]\n",
    "    \n",
    "        "
   ]
  },
  {
   "cell_type": "code",
   "execution_count": 146,
   "id": "7f62fd0b-7a8d-41b2-84d8-8d579809f899",
   "metadata": {},
   "outputs": [],
   "source": [
    "fint=pd.DataFrame(content)"
   ]
  },
  {
   "cell_type": "code",
   "execution_count": 147,
   "id": "5ce55bb6-67c9-46d9-abce-029bff724c54",
   "metadata": {},
   "outputs": [],
   "source": [
    "fint.to_excel('reddit_file.xlsx')"
   ]
  },
  {
   "cell_type": "code",
   "execution_count": 2,
   "id": "0fd051f4-c83c-4f4e-8d4f-2c42014e2bc5",
   "metadata": {},
   "outputs": [],
   "source": [
    "df=pd.read_excel('reddit_file.xlsx')"
   ]
  },
  {
   "cell_type": "code",
   "execution_count": 3,
   "id": "3e19fbf0-c81d-444d-ab53-54448d72f20a",
   "metadata": {},
   "outputs": [],
   "source": [
    "train=df[:200]\n",
    "test=df[200:]"
   ]
  },
  {
   "cell_type": "code",
   "execution_count": 5,
   "id": "f07a7f58-7abe-422f-96d6-f3c4ce634efb",
   "metadata": {},
   "outputs": [],
   "source": [
    "lemma=WordNetLemmatizer()\n",
    "stemmer=PorterStemmer()\n"
   ]
  },
  {
   "cell_type": "code",
   "execution_count": 8,
   "id": "02ddf2fb-9860-4263-8cb0-1388944c7fec",
   "metadata": {},
   "outputs": [],
   "source": [
    "def text_process(t):\n",
    "    all_words=[]\n",
    "    t=t.replace('.',' . ').replace('!',' ! ').replace('?',' ? ').replace('/',' / ')\n",
    "    for sent in nltk.sent_tokenize(t.lower()):\n",
    "        words=nltk.word_tokenize(sent)\n",
    "        words=[word for word in words if word not in stopwords.words('english') ]\n",
    "        words=[stemmer.stem(word) for word in words]\n",
    "        words=[lemma.lemmatize(word,wordnet.ADJ)for word in words]\n",
    "        words=[word for word in words if word not in punctuation]\n",
    "        words=[word for word in words if not word.isnumeric()]\n",
    "        all_words+=words\n",
    "    all_words=''.join([ch for ch in ' '.join(all_words) if (ch not in punctuation) and(not ch.isnumeric())])\n",
    "    return all_words"
   ]
  },
  {
   "cell_type": "code",
   "execution_count": 9,
   "id": "2d541a7c-b2f9-4dc1-81db-f7925f48e43c",
   "metadata": {},
   "outputs": [],
   "source": [
    "col=[]\n",
    "tfidfV = TfidfVectorizer()\n",
    "tf_idf_train = tfidfV.fit_transform(train['sentences'].apply(text_process))\n",
    "tf_train = pd.DataFrame(tf_idf_train.toarray(),columns = tfidfV.get_feature_names())\n",
    "gh=tfidfV.get_feature_names()\n",
    "tf_idf_test=tfidfV.fit_transform(test['sentences'].apply(text_process))\n",
    "tf_test = pd.DataFrame(tf_idf_test.toarray(),columns = tfidfV.get_feature_names())\n",
    "jk=tfidfV.get_feature_names()\n",
    "for i in gh:\n",
    "    if i in jk:\n",
    "        col+=[i]\n",
    "\n",
    "\n",
    "\n"
   ]
  },
  {
   "cell_type": "code",
   "execution_count": 12,
   "id": "210bf8aa-3b0d-4744-b634-9625cfa692fe",
   "metadata": {},
   "outputs": [],
   "source": [
    "tf_test.drop(tf_test.columns.difference(col), 1, inplace=True)\n",
    "tf_train.drop(tf_train.columns.difference(col), 1, inplace=True)"
   ]
  },
  {
   "cell_type": "code",
   "execution_count": 15,
   "id": "c451ef40-8649-48b7-a9cb-e57f5fccecab",
   "metadata": {},
   "outputs": [
    {
     "name": "stdout",
     "output_type": "stream",
     "text": [
      "0.96\n"
     ]
    }
   ],
   "source": [
    "model_bnb = BernoulliNB().fit(tf_train,train['anxious'])\n",
    "print(model_bnb.score(tf_train,train['anxious']))"
   ]
  },
  {
   "cell_type": "code",
   "execution_count": 16,
   "id": "52872ec5-9501-4f64-bf2d-6194c6bf488d",
   "metadata": {},
   "outputs": [
    {
     "name": "stdout",
     "output_type": "stream",
     "text": [
      "0.855\n"
     ]
    }
   ],
   "source": [
    "model_mnb = MultinomialNB().fit(tf_train,train['anxious'])\n",
    "print(model_mnb.score(tf_train,train['anxious']))"
   ]
  },
  {
   "cell_type": "code",
   "execution_count": 17,
   "id": "c418fc1b-3cf1-4b13-affb-f17b15552090",
   "metadata": {},
   "outputs": [],
   "source": [
    "predicted=model_bnb.predict(tf_test)"
   ]
  },
  {
   "cell_type": "code",
   "execution_count": 32,
   "id": "ddd6657a-6ca5-43d3-966c-463cd2d579da",
   "metadata": {},
   "outputs": [],
   "source": [
    "pred_df=pd.DataFrame({'anxious':predicted,'sentences':test['sentences']})\n",
    "pred_df.reset_index(inplace = True, drop = True)"
   ]
  },
  {
   "cell_type": "code",
   "execution_count": 33,
   "id": "78381bc3-69bc-4683-9963-48e353771c56",
   "metadata": {},
   "outputs": [
    {
     "data": {
      "text/html": [
       "<div>\n",
       "<style scoped>\n",
       "    .dataframe tbody tr th:only-of-type {\n",
       "        vertical-align: middle;\n",
       "    }\n",
       "\n",
       "    .dataframe tbody tr th {\n",
       "        vertical-align: top;\n",
       "    }\n",
       "\n",
       "    .dataframe thead th {\n",
       "        text-align: right;\n",
       "    }\n",
       "</style>\n",
       "<table border=\"1\" class=\"dataframe\">\n",
       "  <thead>\n",
       "    <tr style=\"text-align: right;\">\n",
       "      <th></th>\n",
       "      <th>anxious</th>\n",
       "      <th>sentences</th>\n",
       "    </tr>\n",
       "  </thead>\n",
       "  <tbody>\n",
       "    <tr>\n",
       "      <th>0</th>\n",
       "      <td>1</td>\n",
       "      <td>just left the doctor and was prescribed .Just ...</td>\n",
       "    </tr>\n",
       "    <tr>\n",
       "      <th>1</th>\n",
       "      <td>1</td>\n",
       "      <td>trouble with my anxiety .Lately I\\u2019ve been...</td>\n",
       "    </tr>\n",
       "    <tr>\n",
       "      <th>2</th>\n",
       "      <td>1</td>\n",
       "      <td>can anyone relate .I can never relax because i...</td>\n",
       "    </tr>\n",
       "    <tr>\n",
       "      <th>3</th>\n",
       "      <td>1</td>\n",
       "      <td>elevated h1c .Had my first h1c test this week....</td>\n",
       "    </tr>\n",
       "    <tr>\n",
       "      <th>4</th>\n",
       "      <td>0</td>\n",
       "      <td>very anxious about meeting my gfs parents .Hel...</td>\n",
       "    </tr>\n",
       "    <tr>\n",
       "      <th>...</th>\n",
       "      <td>...</td>\n",
       "      <td>...</td>\n",
       "    </tr>\n",
       "    <tr>\n",
       "      <th>295</th>\n",
       "      <td>1</td>\n",
       "      <td>my anxiety dropped me .Every day seems like an...</td>\n",
       "    </tr>\n",
       "    <tr>\n",
       "      <th>296</th>\n",
       "      <td>0</td>\n",
       "      <td>i really want to meet my online friend but i m...</td>\n",
       "    </tr>\n",
       "    <tr>\n",
       "      <th>297</th>\n",
       "      <td>0</td>\n",
       "      <td>why thinking of space or other galaxies is giv...</td>\n",
       "    </tr>\n",
       "    <tr>\n",
       "      <th>298</th>\n",
       "      <td>1</td>\n",
       "      <td>covid vaccinerelated choking attack .Ever sinc...</td>\n",
       "    </tr>\n",
       "    <tr>\n",
       "      <th>299</th>\n",
       "      <td>0</td>\n",
       "      <td>need a new job too anxious to apply to any .My...</td>\n",
       "    </tr>\n",
       "  </tbody>\n",
       "</table>\n",
       "<p>300 rows × 2 columns</p>\n",
       "</div>"
      ],
      "text/plain": [
       "     anxious                                          sentences\n",
       "0          1  just left the doctor and was prescribed .Just ...\n",
       "1          1  trouble with my anxiety .Lately I\\u2019ve been...\n",
       "2          1  can anyone relate .I can never relax because i...\n",
       "3          1  elevated h1c .Had my first h1c test this week....\n",
       "4          0  very anxious about meeting my gfs parents .Hel...\n",
       "..       ...                                                ...\n",
       "295        1  my anxiety dropped me .Every day seems like an...\n",
       "296        0  i really want to meet my online friend but i m...\n",
       "297        0  why thinking of space or other galaxies is giv...\n",
       "298        1  covid vaccinerelated choking attack .Ever sinc...\n",
       "299        0  need a new job too anxious to apply to any .My...\n",
       "\n",
       "[300 rows x 2 columns]"
      ]
     },
     "execution_count": 33,
     "metadata": {},
     "output_type": "execute_result"
    }
   ],
   "source": [
    "pred_df"
   ]
  },
  {
   "cell_type": "code",
   "execution_count": 35,
   "id": "52a5a939-401e-4c88-909d-8bb72801c4f2",
   "metadata": {},
   "outputs": [],
   "source": [
    "pred_df.to_excel('reddit_anxiety_predicted.xlsx')"
   ]
  },
  {
   "cell_type": "code",
   "execution_count": null,
   "id": "3181c1d7-827d-4cb1-a6ed-90f9e5bfa600",
   "metadata": {},
   "outputs": [],
   "source": []
  }
 ],
 "metadata": {
  "kernelspec": {
   "display_name": "Python 3",
   "language": "python",
   "name": "python3"
  },
  "language_info": {
   "codemirror_mode": {
    "name": "ipython",
    "version": 3
   },
   "file_extension": ".py",
   "mimetype": "text/x-python",
   "name": "python",
   "nbconvert_exporter": "python",
   "pygments_lexer": "ipython3",
   "version": "3.8.8"
  }
 },
 "nbformat": 4,
 "nbformat_minor": 5
}
